{
  "nbformat": 4,
  "nbformat_minor": 0,
  "metadata": {
    "colab": {
      "name": "PZ_11.ipynb",
      "provenance": [],
      "authorship_tag": "ABX9TyPEeuZjnwSDpc3bd54BNtEH",
      "include_colab_link": true
    },
    "kernelspec": {
      "name": "python3",
      "display_name": "Python 3"
    },
    "language_info": {
      "name": "python"
    }
  },
  "cells": [
    {
      "cell_type": "markdown",
      "metadata": {
        "id": "view-in-github",
        "colab_type": "text"
      },
      "source": [
        "<a href=\"https://colab.research.google.com/github/GermanDrozdenko/Proj_1sem_Drozdenko/blob/master/PZ_11.ipynb\" target=\"_parent\"><img src=\"https://colab.research.google.com/assets/colab-badge.svg\" alt=\"Open In Colab\"/></a>"
      ]
    },
    {
      "cell_type": "markdown",
      "source": [
        "Даны три целых числа: A, B, C. Проверить истинность высказывания \"Справедливо двойное неравенство A<B<C\"."
      ],
      "metadata": {
        "id": "j3bN900ah9B5"
      }
    },
    {
      "cell_type": "code",
      "execution_count": 1,
      "metadata": {
        "colab": {
          "base_uri": "https://localhost:8080/"
        },
        "id": "joPVEjzBaw8F",
        "outputId": "7f5fcbcb-b100-442f-d214-fb5363776083"
      },
      "outputs": [
        {
          "output_type": "stream",
          "name": "stdout",
          "text": [
            "Введите целое число А: 13\n",
            "Введите целое число B: 2\n",
            "Введите целое число C: 4\n",
            "Высказывание ложно\n"
          ]
        }
      ],
      "source": [
        "a = input(\"Введите целое число А: \")\n",
        "b = input(\"Введите целое число B: \")\n",
        "c = input(\"Введите целое число C: \")\n",
        "\n",
        "while type(a) != int:                           #обработка исключений\n",
        "    try:\n",
        "        a = int(a)\n",
        "    except ValueError:\n",
        "        print(\"Неправильный ввод\")\n",
        "        a = input(\"Введите целое число А: \")\n",
        "\n",
        "while type(b) != int:                           #обработка исключений\n",
        "    try:\n",
        "        b = int(b)\n",
        "    except ValueError:\n",
        "        print(\"Неправильный ввод\")\n",
        "        b = input(\"Введите целое число B: \")\n",
        "\n",
        "while type(c) != int:                           #обработка исключений\n",
        "    try:\n",
        "        c = int(c)\n",
        "    except ValueError:\n",
        "        print(\"Неправильный ввод\")\n",
        "        c = input(\"Введите целое число C: \")\n",
        "\n",
        "if a<b<c:                                       #условие и вывод\n",
        "    print(\"Высказывание истинно\")\n",
        "else:\n",
        "    print(\"Высказывание ложно\")"
      ]
    },
    {
      "cell_type": "markdown",
      "source": [
        "Даны два целых числа A и B (A < B). Найти сумму всех целых чисел от A до B включительно."
      ],
      "metadata": {
        "id": "Mg3pCL63ibxB"
      }
    },
    {
      "cell_type": "code",
      "source": [
        "print(\"Введите два целых числа, при этом число A должно быть меньше числа B\")\n",
        "a = input(\"Введите целое число A: \")\n",
        "b = input(\"Введите целое число B: \")\n",
        "\n",
        "while type(a) != int:\n",
        "    try:\n",
        "        a = int(a)\n",
        "    except ValueError:\n",
        "        print(\"Неправильный ввод\")\n",
        "        a = input(\"Введите целое число A: \")\n",
        "\n",
        "while type(b) != int:\n",
        "    try:\n",
        "        b = int(b)\n",
        "    except ValueError:\n",
        "        print(\"Неправильный ввод\")\n",
        "        b = input(\"Введите целое число B: \")\n",
        "\n",
        "s = 0\n",
        "\n",
        "while a <= b:\n",
        "    s += a\n",
        "    a += 1\n",
        "\n",
        "print(\"Сумма всех целых чисел: \", s)"
      ],
      "metadata": {
        "colab": {
          "base_uri": "https://localhost:8080/"
        },
        "id": "yc0rUDQ0ibii",
        "outputId": "ff72651d-5c5a-4694-fb9c-fd035a36f936"
      },
      "execution_count": 2,
      "outputs": [
        {
          "output_type": "stream",
          "name": "stdout",
          "text": [
            "Введите два целых числа, при этом число A должно быть меньше числа B\n",
            "Введите целое число A: 2\n",
            "Введите целое число B: 6\n",
            "Сумма всех целых чисел:  20\n"
          ]
        }
      ]
    },
    {
      "cell_type": "markdown",
      "source": [
        "Составить функцию, которая выведет на экран строку, содержащую задаваемое с клавиатуры число символов."
      ],
      "metadata": {
        "id": "MIXgZH8Yiixx"
      }
    },
    {
      "cell_type": "code",
      "source": [
        "def digitCounter():\n",
        "    text = input(\"Введите текст: \")\n",
        "    x = len(text)\n",
        "    return x\n",
        "\n",
        "print(\"Длина текста:\", digitCounter())"
      ],
      "metadata": {
        "colab": {
          "base_uri": "https://localhost:8080/"
        },
        "id": "r1lMroYpii4R",
        "outputId": "d91686b5-4a0d-41b1-89b6-14671f8d67e0"
      },
      "execution_count": 3,
      "outputs": [
        {
          "output_type": "stream",
          "name": "stdout",
          "text": [
            "Введите текст: аыаыаыф\n",
            "Длина текста: 7\n"
          ]
        }
      ]
    }
  ]
}